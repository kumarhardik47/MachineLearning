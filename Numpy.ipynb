{
  "nbformat": 4,
  "nbformat_minor": 0,
  "metadata": {
    "colab": {
      "provenance": [],
      "toc_visible": true,
      "authorship_tag": "ABX9TyPdwD33SyRIXuCiw7S9UDZl",
      "include_colab_link": true
    },
    "kernelspec": {
      "name": "python3",
      "display_name": "Python 3"
    },
    "language_info": {
      "name": "python"
    }
  },
  "cells": [
    {
      "cell_type": "markdown",
      "metadata": {
        "id": "view-in-github",
        "colab_type": "text"
      },
      "source": [
        "<a href=\"https://colab.research.google.com/github/kumarhardik47/MachineLearning/blob/main/Numpy.ipynb\" target=\"_parent\"><img src=\"https://colab.research.google.com/assets/colab-badge.svg\" alt=\"Open In Colab\"/></a>"
      ]
    },
    {
      "cell_type": "code",
      "source": [
        "# NumPy - Numerical Python\n",
        "#\n",
        "# Advantages\n",
        "# It allows several mathematical operations\n",
        "# Faster operations\n",
        "\n",
        "import numpy as np\n",
        "\n",
        "np_array = np.array([1,2,3,4,5])\n",
        "print (np_array)\n",
        "print (type(np_array))\n",
        "print (np_array.shape)\n",
        "\n",
        "\n",
        "arr1 = np.array([(1,2,3,4,5),(6,7,8,9,10)])\n",
        "print(arr1)\n",
        "\n",
        "arr2 = np.array([(1,2,3,4,5),(6,7,8,9,10)],dtype=float)\n",
        "print(arr2)\n",
        "\n",
        "# Initial placeholder in Numpy array ( initial values placed in numpy array)\n",
        "arr = np.zeros((4,5))\n",
        "print(arr)\n",
        "\n",
        "# Numpy Full\n",
        "arr = np.full((4,5),3)\n",
        "print(arr)\n",
        "\n",
        "#np array of 1s\n",
        "arr3 = np.ones((3,3),dtype=int)\n",
        "print(arr3)\n",
        "#Identity matrix\n",
        "arr = np.eye(5)\n",
        "print(arr)\n",
        "\n",
        "#Numpy array with random values\n",
        "random_arr = np.random.random((5,6))\n",
        "print(random_arr)\n",
        "\n",
        "#Numpy array with random INTEGER values (DTYPE doesnot work here)\n",
        "\n",
        "random_arr1 = np.random.randint(10,20,(5,6)) # 10,20 is the range of the random values\n",
        "print(random_arr1)\n",
        "\n",
        "#Evenly spaced numbers over a specified interval\n",
        "linspace = np.linspace(10,30,5) # means -- I need 5 values between 10 and 30\n",
        "print(linspace)\n",
        "\n",
        "#Evenly spaced numbers over a specified interval with STEP NUMBER\n",
        "arange = np.arange(10,30,5) # means -- keep on giving values with a step of 5 . like climbing ladder\n",
        "print(arange)\n",
        "\n",
        "#Convert LIST TO ARRAY\n",
        "list1 = [1,2,3,4,5]\n",
        "nparr = np.asarray(list1)\n",
        "print(nparr)\n",
        "print(type(nparr))"
      ],
      "metadata": {
        "collapsed": true,
        "id": "dA8YA95W6As2"
      },
      "execution_count": null,
      "outputs": []
    },
    {
      "cell_type": "code",
      "source": [
        "# Analysis of Numpy Array\n",
        "#\n",
        "\n",
        "arr = np.random.randint(10,90, (5,5))\n",
        "print(arr)\n",
        "\n",
        "#Array Dimension\n",
        "print(arr.shape)\n",
        "\n",
        "#How many dimensions (2d, 3d)\n",
        "print(arr.ndim)\n",
        "\n",
        "#print number of elements in array\n",
        "print(arr.size)\n",
        "\n",
        "#check the datatype of the values in the array\n",
        "print(arr.dtype)"
      ],
      "metadata": {
        "collapsed": true,
        "id": "jgUjn_rG9nOF"
      },
      "execution_count": null,
      "outputs": []
    },
    {
      "cell_type": "code",
      "source": [
        "#Mahtematical operations on numpy array\n",
        "#\n",
        "\n",
        "list1 = [1,2,3,4,5]\n",
        "list2 = [6,7,8,9,10]\n",
        "\n",
        "print(list1 + list2) # THis doesnot add the elements but appends onee list to the other\n",
        "\n",
        "#adding numpy arrays\n",
        "arr1 = np.random.randint(10,100,(5,5))\n",
        "arr2 = np.random.randint(10,100,(5,5))\n",
        "print(arr1)\n",
        "print(arr2)\n",
        "print(arr1 + arr2)\n",
        "print(arr1 - arr2)\n",
        "print(arr1 * arr2)\n",
        "print(arr1 / arr2)\n",
        "\n",
        "print(np.add(arr1,arr2))\n",
        "print(np.subtract(arr1,arr2))\n",
        "print(np.multiply(arr1,arr2))\n",
        "print(np.divide(arr1,arr2))\n"
      ],
      "metadata": {
        "id": "HsdAQzUZ-xcu"
      },
      "execution_count": null,
      "outputs": []
    },
    {
      "cell_type": "code",
      "source": [
        "# Array multiplication\n",
        "#\n",
        "arr = np.random.randint(0,10,(2,3))\n",
        "print(arr)\n",
        "print(arr.shape)\n",
        "\n",
        "#Transpose ( Method 1)\n",
        "arr2 = np.transpose(arr)\n",
        "print(arr2)\n",
        "\n",
        "#Transpose( Method 2)\n",
        "arr3 = arr.T # T indicates the transpose\n",
        "print(arr3)\n",
        "print(arr3.shape)\n",
        "\n",
        "\n",
        "#Reshape an array\n",
        "\n",
        "a = np.random.randint(0,10,(2,3))\n",
        "print(a)\n",
        "print(a.shape)\n",
        "\n",
        "#The matrix above is 2*3 matrix. And I want to reshape it to 3*2\n",
        "b = a.reshape(3*2)\n",
        "print(b)\n",
        "print(b.shape)"
      ],
      "metadata": {
        "id": "glBfWr2IAd4X"
      },
      "execution_count": null,
      "outputs": []
    },
    {
      "cell_type": "markdown",
      "source": [
        "# New Section"
      ],
      "metadata": {
        "id": "C1MmUwlHCNgl"
      }
    }
  ]
}